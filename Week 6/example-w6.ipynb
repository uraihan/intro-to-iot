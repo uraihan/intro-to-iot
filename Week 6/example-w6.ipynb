{
 "cells": [
  {
   "cell_type": "markdown",
   "source": "# BL40A2010 Introduction to IoT-Based Systems\n\n## Example for HW 6, 12.10.2018\n\n### Author: Pedro Nardelli",
   "metadata": {
    "collapsed": true,
    "cell_id": "00000-cfc55a07-e669-49d9-928b-fd9bd04e4d26",
    "deepnote_cell_type": "markdown"
   }
  },
  {
   "cell_type": "markdown",
   "source": "**(1) Consider the game whose payoff table is presented below. What is the relation between the payoffs values $x$, $y$, $w$ and $z$ so that the game can be classified as *Dove and Hawk*?**\n\n|                | $B$ aggressive  | $B$ not-aggressive     |\n|----------------|:---------------:|--------------:|\n| $A$ agreessive |  $A \\rightarrow x$   | $A \\rightarrow w$  |\n|                |  $B \\rightarrow x$   | $B\\rightarrow y$  |\n|                |                 |               |\n| $A$ not-aggressive |  $A\\rightarrow y$      | $A\\rightarrow z$  |\n|                |  $B\\rightarrow w$   | $B\\rightarrow z$  |\n\n\n**Verify the analytical results with numerical examples using [nashpy](https://nashpy.readthedocs.io/en/stable/index.html).**",
   "metadata": {
    "cell_id": "00001-a93a6712-6643-452b-b21c-af572398062f",
    "deepnote_cell_type": "markdown"
   }
  },
  {
   "cell_type": "markdown",
   "source": "*Answer:* To be a Dove and Hawk game:\n- Both being aggressive is worse than both being timid, therefore:  x < z,\n- Being aggressive gives advantage in relation to be timid: w > y,\n- There shall be Nash equilibria when one player is aggressive and the other is timid. In this sense: w > z and  y > x . \n\nPutting all together:  x < y < z < w ",
   "metadata": {
    "trusted": false,
    "cell_id": "00002-85f8afd7-b281-4fd5-8585-3cd18de54fd4",
    "deepnote_cell_type": "markdown"
   }
  },
  {
   "cell_type": "code",
   "metadata": {
    "trusted": true,
    "cell_id": "00003-0d3a08cf-192e-4e91-8cd5-663b0fc39fc7",
    "deepnote_to_be_reexecuted": false,
    "source_hash": "3710734d",
    "execution_millis": 3841,
    "execution_start": 1641926124192,
    "deepnote_cell_type": "code"
   },
   "source": "#Verification with nashpy\n#Installing a missing library\n! pip install nashpy",
   "outputs": [
    {
     "name": "stdout",
     "text": "Requirement already satisfied: nashpy in /root/venv/lib/python3.7/site-packages (0.0.21)\r\nRequirement already satisfied: numpy>=1.12.1 in /shared-libs/python3.7/py/lib/python3.7/site-packages (from nashpy) (1.19.5)\r\nRequirement already satisfied: scipy>=0.19.0 in /shared-libs/python3.7/py/lib/python3.7/site-packages (from nashpy) (1.7.3)\r\n",
     "output_type": "stream",
     "data": {}
    }
   ],
   "execution_count": null
  },
  {
   "cell_type": "code",
   "metadata": {
    "trusted": true,
    "cell_id": "00004-d36a6a61-120d-4762-b065-89ceb56424ef",
    "deepnote_to_be_reexecuted": false,
    "source_hash": "bb6c2c64",
    "execution_millis": 454,
    "execution_start": 1641926128047,
    "deepnote_cell_type": "code"
   },
   "source": "import numpy as np\nimport nashpy as nash",
   "outputs": [],
   "execution_count": null
  },
  {
   "cell_type": "markdown",
   "source": "### Test 1:  x < y < z < w \n\n\n|                | $B$ aggressive  | $B$ not-aggressive     |\n|----------------|:---------------:|--------------:|\n| $A$ agreessive |  $A \\rightarrow x$   | $A \\rightarrow w$  |\n|                |  $B \\rightarrow x$   | $B\\rightarrow y$  |\n|                |                 |               |\n| $A$ not-aggressive |  $A\\rightarrow y$      | $A\\rightarrow z$  |\n|                |  $B\\rightarrow w$   | $B\\rightarrow z$  |\n\n\n$$\nA =\n\\begin{pmatrix}\n    x & w\\\\\n    y & z\n\\end{pmatrix}\\qquad\nB =\n\\begin{pmatrix}\n    x & y\\\\\n    w & z\n\\end{pmatrix}\n$$\n\n### Test 1:  x < y < z < w \n\n\n|                | $B$ aggressive  | $B$ not-aggressive     |\n|----------------|:---------------:|--------------:|\n| $A$ agreessive |  $A \\rightarrow 0$   | $A \\rightarrow 5$  |\n|                |  $B \\rightarrow 0$   | $B\\rightarrow 1$  |\n|                |                 |               |\n| $A$ not-aggressive |  $A\\rightarrow 1$      | $A\\rightarrow 4$  |\n|                |  $B\\rightarrow 5$   | $B\\rightarrow 4$  |\n\n\n$$\nA =\n\\begin{pmatrix}\n    0 & 5\\\\\n    1 & 4\n\\end{pmatrix}\\qquad\nB =\n\\begin{pmatrix}\n    0 & 1\\\\\n    5 & 4\n\\end{pmatrix}\n$$",
   "metadata": {
    "cell_id": "00005-5bad5484-8478-4456-bc48-29aead2e86bd",
    "deepnote_cell_type": "markdown"
   }
  },
  {
   "cell_type": "code",
   "metadata": {
    "tags": [],
    "cell_id": "00006-19e78f21-d15f-4166-b0de-743439059ab9",
    "deepnote_to_be_reexecuted": false,
    "source_hash": "d17801e4",
    "execution_millis": 1,
    "execution_start": 1641926128523,
    "deepnote_output_heights": [
     21.1875
    ],
    "deepnote_cell_type": "code"
   },
   "source": "x = 0\ny = 1 \nz = 4\nw = 5\np=(z-w)/(x+z-y-w) \np",
   "outputs": [
    {
     "output_type": "execute_result",
     "execution_count": 3,
     "data": {
      "text/plain": "0.5"
     },
     "metadata": {}
    }
   ],
   "execution_count": null
  },
  {
   "cell_type": "code",
   "metadata": {
    "trusted": true,
    "cell_id": "00006-85e23a0a-0e03-45c8-912a-d4f406d88cf2",
    "deepnote_to_be_reexecuted": false,
    "source_hash": "ef1e5784",
    "execution_millis": 281,
    "execution_start": 1641926128535,
    "deepnote_output_heights": [
     174.6875
    ],
    "deepnote_cell_type": "code"
   },
   "source": "# Test 1 \nA = [[x, w], [y, z]]\nB = [[x, y], [w, z]]\nhawk_dove = nash.Game(A, B)\nhawk_dove",
   "outputs": [
    {
     "output_type": "execute_result",
     "execution_count": 4,
     "data": {
      "text/plain": "Bi matrix game with payoff matrices:\n\nRow player:\n[[0 5]\n [1 4]]\n\nColumn player:\n[[0 1]\n [5 4]]"
     },
     "metadata": {}
    }
   ],
   "execution_count": null
  },
  {
   "cell_type": "code",
   "metadata": {
    "trusted": true,
    "cell_id": "00007-586bcdde-f08c-4dd9-8de2-39e4adb1dedd",
    "deepnote_to_be_reexecuted": false,
    "source_hash": "ce6581b0",
    "execution_millis": 271,
    "execution_start": 1641926128546,
    "deepnote_output_heights": [
     59.5625
    ],
    "deepnote_cell_type": "code"
   },
   "source": "eqs = hawk_dove.support_enumeration()\nlist(eqs)",
   "outputs": [
    {
     "output_type": "execute_result",
     "execution_count": 5,
     "data": {
      "text/plain": "[(array([1., 0.]), array([0., 1.])),\n (array([0., 1.]), array([1., 0.])),\n (array([0.5, 0.5]), array([0.5, 0.5]))]"
     },
     "metadata": {}
    }
   ],
   "execution_count": null
  },
  {
   "cell_type": "code",
   "metadata": {
    "tags": [],
    "cell_id": "00008-6f5da6ab-0b2b-4061-98f2-d68a8f37eb9c",
    "deepnote_to_be_reexecuted": false,
    "source_hash": "b623e53d",
    "execution_millis": 26475193338,
    "execution_start": 1641926128616,
    "deepnote_output_heights": [
     21.1875
    ],
    "deepnote_cell_type": "code"
   },
   "source": "",
   "outputs": [],
   "execution_count": null
  },
  {
   "cell_type": "markdown",
   "source": "This output gives the *mixed strategies Nash equilibria.*\n\n- **First line:** Player A (first array) will be aggressive with probability $1$ and be timid with probability $0$; Player B (second array) will be aggressive with probability $0$ and be timid with probability $1$. \n- **Second line:** Player A (first array) will be aggressive with probability $0$ and be timid with probability $1$; Player B (second array) will be aggressive with probability $1$ and be timid with probability $0$. \n\nThis satisfies the condition of being a Dove and Hawk game. Note that there is also a third Nash equilibrium, but a mixed strategy one.\n- **Third line:** Player A (first array) will be aggressive with probability $3/4$ and be timid with probability $1/4$; Player B (second array) will be aggressive with probability $3/4$ and be timid with probability $1/4$. Check it out by hand.",
   "metadata": {
    "cell_id": "00008-73b77a49-7428-4820-9225-a21d38ff5cb4",
    "deepnote_cell_type": "markdown"
   }
  },
  {
   "cell_type": "markdown",
   "source": "### Test 2: z > w\n\n\n|                | $B$ aggressive  | $B$ not-aggressive     |\n|----------------|:---------------:|--------------:|\n| $A$ agreessive |  $A \\rightarrow 0$   | $A \\rightarrow 2$  |\n|                |  $B \\rightarrow 0$   | $B\\rightarrow 1$  |\n|                |                 |               |\n| $A$ not-aggressive |  $A\\rightarrow 1$      | $A\\rightarrow 3$  |\n|                |  $B\\rightarrow 2$   | $B\\rightarrow 3$  |\n\n$$\nA =\n\\begin{pmatrix}\n    0 & 2\\\\\n    1 & 3\n\\end{pmatrix}\\qquad\nB =\n\\begin{pmatrix}\n    0 & 1\\\\\n    2 & 3\n\\end{pmatrix}\n$$",
   "metadata": {
    "cell_id": "00009-28935b0c-8ef0-4e7a-93f5-8162125bd1a8",
    "deepnote_cell_type": "markdown"
   }
  },
  {
   "cell_type": "code",
   "metadata": {
    "trusted": true,
    "cell_id": "00010-07f741fb-027c-4b91-9335-55959072d9f2",
    "deepnote_to_be_reexecuted": false,
    "source_hash": "73592939",
    "execution_start": 1641926128616,
    "execution_millis": 26476148201,
    "deepnote_output_heights": [
     174.6875
    ],
    "deepnote_cell_type": "code"
   },
   "source": "# Test 2 -> x=0, y=1, z=3 and w=2\nA = [[0, 2], [1, 3]]\nB = [[0, 1], [2, 3]]\nhawk_dove2 = nash.Game(A, B)\nhawk_dove2",
   "outputs": [
    {
     "output_type": "execute_result",
     "execution_count": 6,
     "data": {
      "text/plain": "Bi matrix game with payoff matrices:\n\nRow player:\n[[0 2]\n [1 3]]\n\nColumn player:\n[[0 1]\n [2 3]]"
     },
     "metadata": {}
    }
   ],
   "execution_count": null
  },
  {
   "cell_type": "code",
   "metadata": {
    "trusted": true,
    "cell_id": "00011-0c5adb0f-e9a6-4a12-ac38-8c5565b13277",
    "deepnote_to_be_reexecuted": false,
    "source_hash": "eb4a855a",
    "execution_start": 1641926128617,
    "execution_millis": 202,
    "deepnote_output_heights": [
     21.1875
    ],
    "deepnote_cell_type": "code"
   },
   "source": "eqs = hawk_dove2.support_enumeration()\nlist(eqs)",
   "outputs": [
    {
     "output_type": "execute_result",
     "execution_count": 7,
     "data": {
      "text/plain": "[(array([0., 1.]), array([0., 1.]))]"
     },
     "metadata": {}
    }
   ],
   "execution_count": null
  },
  {
   "cell_type": "markdown",
   "source": "This indicates a unique Nash equilibrium (domiant strategy) of both being timid",
   "metadata": {
    "cell_id": "00012-d5ae108e-f231-47bc-ba7f-5ccf4ad7b679",
    "deepnote_cell_type": "markdown"
   }
  },
  {
   "cell_type": "markdown",
   "source": "**(2) Justify why the game from the previous exercise is or is not a sound model when $A$ and $B$ are:**\n\n**1. Two countries developing defense policies.**\n\n\n**2. Competitive companies in the market discussing standardization.**\n\n\n**3. Two different autonomous IoT-based home energy management algorithms that are focus on energy efficiency.**\n\n\n**4. Two different autonomous IoT-based home energy management algorithms that are focus on profit maximization.**",
   "metadata": {
    "cell_id": "00013-cb1588f8-499c-4273-bfb8-b67c4b0ba69b",
    "deepnote_cell_type": "markdown"
   }
  },
  {
   "cell_type": "markdown",
   "source": "Answer: Dove and Hawk game as a model.\n\n**1.** Yes. For example country A has an aggressive external policy to develop nuclear weapons. Country B may invade the country and cause a nuclear war (bad to all), or being passive (timid) and let the other country develop the weapon without cause war (A is in an advantageous situation and B cannot act without becoming worse off).\n\n**2.** Probably yes if there is a competition between two standards. It may be a good model if we consider: both losing by having two standards. An aggressive company (A) can push its preferable standard and the other (B) being timid; this case has advantages of having only one standard. Nevertheless, the \"good\" solution would be having the two companies agreeing in a standard without any imposing their positions (both timid).\n\n**3.** No since they can work in cooperation and have the same shared goal. The energy efficiency of house A does not affect the payoff of house B.\n\n**4.** Probably no. But it can also be yes if they are competing for the same resource and decisions of A and B may affect each other.",
   "metadata": {
    "cell_id": "00014-d898fc73-17ae-4fd3-96b4-097fd89fe0be",
    "deepnote_cell_type": "markdown"
   }
  },
  {
   "cell_type": "markdown",
   "source": "<a style='text-decoration:none;line-height:16px;display:flex;color:#5B5B62;padding:10px;justify-content:end;' href='https://deepnote.com?utm_source=created-in-deepnote-cell&projectId=6e014854-0d33-4882-b3ba-5e4227a689e6' target=\"_blank\">\n<img alt='Created in deepnote.com' style='display:inline;max-height:16px;margin:0px;margin-right:7.5px;' src='data:image/svg+xml;base64,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' > </img>\nCreated in <span style='font-weight:600;margin-left:4px;'>Deepnote</span></a>",
   "metadata": {
    "tags": [],
    "created_in_deepnote_cell": true,
    "deepnote_cell_type": "markdown"
   }
  }
 ],
 "nbformat": 4,
 "nbformat_minor": 2,
 "metadata": {
  "kernelspec": {
   "name": "python36",
   "display_name": "Python 3.6",
   "language": "python"
  },
  "language_info": {
   "mimetype": "text/x-python",
   "nbconvert_exporter": "python",
   "name": "python",
   "pygments_lexer": "ipython3",
   "version": "3.6.6",
   "file_extension": ".py",
   "codemirror_mode": {
    "version": 3,
    "name": "ipython"
   }
  },
  "deepnote_notebook_id": "3026a07a-64fb-4ca4-aef2-b2b33dc0bdb8",
  "deepnote": {},
  "deepnote_execution_queue": []
 }
}