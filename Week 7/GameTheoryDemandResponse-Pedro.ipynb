{
 "cells": [
  {
   "cell_type": "code",
   "metadata": {
    "trusted": true,
    "cell_id": "00000-5b15f63a-63b1-474b-a00e-60748fbced6a",
    "deepnote_cell_type": "code"
   },
   "source": "from sympy import *\ninit_printing(use_latex=\"mathjax\")",
   "execution_count": 1,
   "outputs": []
  },
  {
   "cell_type": "code",
   "metadata": {
    "trusted": true,
    "cell_id": "00001-f80b1890-c6aa-4ff2-9521-b201d3ef1d09",
    "deepnote_cell_type": "code"
   },
   "source": "p,alpha,beta,N,G = symbols(\"p alpha beta N G\")",
   "execution_count": 2,
   "outputs": []
  },
  {
   "cell_type": "markdown",
   "source": "# Expressing a Demand Response Problem as a Game\n\nWe assume there are two action\n + Participate: **P**\n + Don‘t participate: **D**\n\nFurther the system might be of size **N**.\nThe payoff could look like so:\n$$f(n) = \\begin{cases} -\\alpha-\\beta (\\#P-G)^2 &\\mbox{if } P \\\\ \n-\\beta (\\#P-G)^2 & \\mbox{if } D \\end{cases}$$\n\nwhere $\\#P$ is the number of P played by all players and $G$ is the number of P players needed to solve the issue in the system.\n\n## Two Person Game\n\nFor a two player game we could then imageine three cases with $G=0,G=1$ and $G=2$.\n\nWe further assume $\\alpha=0.1$ and $\\beta=1$.\n\n$G=0$\n\n| |P|D|\n|-|-|\n|**P**|(-4.1 \\ -4.1)|(-1.1 \\ -1)|\n|**D**|(-1 \\ -1.1)|(0 \\ 0)*|\n\n$G=1$\n\n| |P|D|\n|-|-|\n|**P**|(-1.1 \\ -1.1)|(-0.1 \\ 0)*|\n|**D**|(0 \\ -0.1)*|(-1 \\ -1)|\n\n$G=2$\n\n| |P|D|\n|-|-|\n|**P**|(0 \\ 0)*|(-1.1 \\ -1)|\n|**D**|(-1 \\ -1.1)|(-4 \\ -4)|\n\nThe dominant strategies are market with *. As we can see for the first and the last case we have a pure Nash EQ. However the second case has a mixed EQ. ",
   "metadata": {
    "cell_id": "00002-c24df6a0-54fe-49c1-aa95-fa9253f0bc26",
    "deepnote_cell_type": "markdown"
   }
  },
  {
   "cell_type": "code",
   "metadata": {
    "collapsed": true,
    "trusted": false,
    "cell_id": "00003-0b381021-52a6-4edb-bb21-65dfe702006f",
    "deepnote_cell_type": "code"
   },
   "source": "m_eq = p**2*-1.1 + p*(1-p)*-0.1 + (1-p)**2*-1",
   "execution_count": 4,
   "outputs": []
  },
  {
   "cell_type": "code",
   "metadata": {
    "trusted": false,
    "cell_id": "00004-20aa524c-2f0b-42cb-bd6b-c67d2cbb1f01",
    "deepnote_output_heights": [
     21.1875
    ],
    "deepnote_cell_type": "code"
   },
   "source": "solve(diff(m_eq,p),p)",
   "execution_count": 5,
   "outputs": [
    {
     "data": {
      "text/latex": "$$\\left [ 0.475\\right ]$$",
      "text/plain": "[0.475]"
     },
     "execution_count": 5,
     "metadata": {},
     "output_type": "execute_result"
    }
   ]
  },
  {
   "cell_type": "code",
   "metadata": {
    "collapsed": true,
    "trusted": false,
    "cell_id": "00005-7d544446-52c7-4135-88fa-2676f9618721",
    "deepnote_cell_type": "code"
   },
   "source": "m_eq_ext = p**2*(-beta-alpha) + p*(1-p)*-alpha + (1-p)**2*-beta",
   "execution_count": 6,
   "outputs": []
  },
  {
   "cell_type": "code",
   "metadata": {
    "trusted": false,
    "cell_id": "00006-6dcc934c-b7ed-4286-b935-c2fe621841a6",
    "deepnote_output_heights": [
     59.5625
    ],
    "deepnote_cell_type": "code"
   },
   "source": "p_m_ext = solve(diff(m_eq_ext,p),p)[0]\nexpand(p_m_ext)",
   "execution_count": 7,
   "outputs": [
    {
     "data": {
      "text/latex": "$$- \\frac{\\alpha}{4 \\beta} + \\frac{1}{2}$$",
      "text/plain": "   α    1\n- ─── + ─\n  4⋅β   2"
     },
     "execution_count": 7,
     "metadata": {},
     "output_type": "execute_result"
    }
   ]
  },
  {
   "cell_type": "code",
   "metadata": {
    "trusted": false,
    "cell_id": "00007-7b5329d8-61ee-4487-babd-b27ec496eb86",
    "deepnote_output_heights": [
     59.5625
    ],
    "deepnote_cell_type": "code"
   },
   "source": "p_m_ext .replace(beta,1)",
   "execution_count": 8,
   "outputs": [
    {
     "data": {
      "text/latex": "$$- \\frac{\\alpha}{4} + \\frac{1}{2}$$",
      "text/plain": "  α   1\n- ─ + ─\n  4   2"
     },
     "execution_count": 8,
     "metadata": {},
     "output_type": "execute_result"
    }
   ]
  },
  {
   "cell_type": "code",
   "metadata": {
    "trusted": false,
    "cell_id": "00008-0dc5aa1f-2844-4e58-b552-14f01949265b",
    "deepnote_output_heights": [
     21.1875
    ],
    "deepnote_cell_type": "code"
   },
   "source": "p_m_ext .replace(beta,1).replace(alpha,0.1)",
   "execution_count": 9,
   "outputs": [
    {
     "data": {
      "text/latex": "$$0.475$$",
      "text/plain": "0.475000000000000"
     },
     "execution_count": 9,
     "metadata": {},
     "output_type": "execute_result"
    }
   ]
  },
  {
   "cell_type": "markdown",
   "source": "## (1+N)-person Game\n\nThe expected output for one player given the uncertainty about the other $N$ players, but knowing that they participate with probability $p$ and don't with probability $1-p$:\n\n$U(p) = p\\;(- \\alpha - \\beta \\; \\mathbb{E}[(X-G)^2]) - (1-p) \\; \\beta \\; \\mathbb{E}[(X-G)^2]$,\n\nwhere $X \\sim \\mathrm{Binomial}(x;N,p)$ is a random variable that follows a binomial distribution.\n\nTo make the derivation of the best $p$, we need to the first and the second moments.\n\n- $\\mathbb{E}[X] = p\\;N$\n\n- $\\mathbb{E}[X^2] = p\\;N \\;(1-p+p\\;N)$.\n\nWe need to write $U(p)$ in terms of these moments and then find $dU(p)/dp = 0$.",
   "metadata": {
    "cell_id": "00009-bddf4fcc-d347-4e6e-a928-03d37176da9a",
    "deepnote_cell_type": "markdown"
   }
  },
  {
   "cell_type": "code",
   "metadata": {
    "trusted": false,
    "cell_id": "00010-5d629000-6166-4418-990c-7dac9344dd65",
    "deepnote_output_heights": [
     59.5625
    ],
    "deepnote_cell_type": "code"
   },
   "source": "n_eq2 = (alpha + beta*N - 2*G*beta*N) / (2*beta*N*(1-N))\nn_eq2",
   "execution_count": 10,
   "outputs": [
    {
     "data": {
      "text/latex": "$$\\frac{- 2 G N \\beta + N \\beta + \\alpha}{2 N \\beta \\left(- N + 1\\right)}$$",
      "text/plain": "-2⋅G⋅N⋅β + N⋅β + α\n──────────────────\n  2⋅N⋅β⋅(-N + 1)  "
     },
     "execution_count": 10,
     "metadata": {},
     "output_type": "execute_result"
    }
   ]
  },
  {
   "cell_type": "code",
   "metadata": {
    "trusted": false,
    "cell_id": "00011-6ec844c7-f8bc-4136-a019-15eafde6a519",
    "deepnote_output_heights": [
     21.1875
    ],
    "deepnote_cell_type": "code"
   },
   "source": "n_eq2.replace(N,5).replace(G,3).replace(beta,10).replace(alpha,0.4)",
   "execution_count": 16,
   "outputs": [
    {
     "data": {
      "text/latex": "$$0.624$$",
      "text/plain": "0.624000000000000"
     },
     "execution_count": 16,
     "metadata": {},
     "output_type": "execute_result"
    }
   ]
  },
  {
   "cell_type": "code",
   "metadata": {
    "collapsed": true,
    "trusted": false,
    "cell_id": "00012-786682a8-0879-4581-9af1-32c6c911feda",
    "deepnote_cell_type": "code"
   },
   "source": "",
   "execution_count": null,
   "outputs": []
  },
  {
   "cell_type": "markdown",
   "source": "<a style='text-decoration:none;line-height:16px;display:flex;color:#5B5B62;padding:10px;justify-content:end;' href='https://deepnote.com?utm_source=created-in-deepnote-cell&projectId=6e014854-0d33-4882-b3ba-5e4227a689e6' target=\"_blank\">\n<img alt='Created in deepnote.com' style='display:inline;max-height:16px;margin:0px;margin-right:7.5px;' src='data:image/svg+xml;base64,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' > </img>\nCreated in <span style='font-weight:600;margin-left:4px;'>Deepnote</span></a>",
   "metadata": {
    "tags": [],
    "created_in_deepnote_cell": true,
    "deepnote_cell_type": "markdown"
   }
  }
 ],
 "nbformat": 4,
 "nbformat_minor": 2,
 "metadata": {
  "kernelspec": {
   "name": "python3",
   "display_name": "Python 3",
   "language": "python"
  },
  "language_info": {
   "mimetype": "text/x-python",
   "nbconvert_exporter": "python",
   "name": "python",
   "file_extension": ".py",
   "version": "3.5.4",
   "pygments_lexer": "ipython3",
   "codemirror_mode": {
    "version": 3,
    "name": "ipython"
   }
  },
  "deepnote_notebook_id": "0068a8a8-7b28-4f52-8abc-1d6590d195b1",
  "deepnote": {},
  "deepnote_execution_queue": []
 }
}