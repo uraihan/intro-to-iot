{
 "cells": [
  {
   "cell_type": "markdown",
   "source": "# BL40A2010 Introduction to IoT-Based Systems\n\n## Example of how *homework 3* should be done. I will study the case of the complete graph.",
   "metadata": {
    "collapsed": true,
    "cell_id": "00000-858423d5-e9db-4c97-8d49-9578fb0f83d7",
    "deepnote_cell_type": "markdown"
   }
  },
  {
   "cell_type": "markdown",
   "source": "**(1) Compute the following for a *complete* topology of $N\\geq3$ nodes considering that the network in unweighted and the links are directed. The result will give these number as a function of $N$.** ",
   "metadata": {
    "cell_id": "00001-8b9c82d0-3596-47db-9fd9-c230e380ff1c",
    "deepnote_cell_type": "markdown"
   }
  },
  {
   "cell_type": "markdown",
   "source": "Answer:\n\nComplete graph means that all nodes are connected to each other. All nodes have the same characterization.\n\n(a) Degree of nodes: $N-1$\n\t\n(b) Adjacent matrix:  \n\n$$\nA = \\begin{pmatrix} \n\t0 & 1 &1 & 1 & ... & 1 \\\\\n\t1 & 0 & 1 & 1 & ... & 1 \\\\\n\t... & ... & ... & ... & ... & ... \\\\\n    1 & 1 & 1 & 1 & ... & 0 \n\\end{pmatrix}\n$$\n\n(c) Diameter: $1$ regardless of $N$ (all nodes are connected)\n\n(d) Clustering coefficient of all nodes: $1$ regardless of $N$  (the neighbors form complete graphs).",
   "metadata": {
    "cell_id": "00002-663d675f-94c7-4745-a7cb-dc09990adb02",
    "deepnote_cell_type": "markdown"
   }
  },
  {
   "cell_type": "markdown",
   "source": "**(2) Use NetworkX to draw and analyze a *complete* topology with 5 nodes. Verify if the results previously obtained are valid.**",
   "metadata": {
    "cell_id": "00003-ee527db0-ba5a-4176-908e-73012621eb6d",
    "deepnote_cell_type": "markdown"
   }
  },
  {
   "cell_type": "code",
   "metadata": {
    "trusted": true,
    "cell_id": "00004-255ebb8c-3322-4e2e-bd12-f5e9848d09d2",
    "deepnote_cell_type": "code"
   },
   "source": "#Upgrading the library to v2.3\n! pip install --upgrade networkx",
   "execution_count": null,
   "outputs": [
    {
     "output_type": "stream",
     "text": "Requirement already up-to-date: networkx in /home/nbuser/anaconda3_501/lib/python3.6/site-packages (2.2)\r\nRequirement already satisfied, skipping upgrade: decorator>=4.3.0 in /home/nbuser/anaconda3_501/lib/python3.6/site-packages (from networkx) (4.3.0)\r\n",
     "name": "stdout"
    }
   ]
  },
  {
   "cell_type": "code",
   "metadata": {
    "trusted": true,
    "cell_id": "00005-0f12080a-98ed-48b3-9487-4abd251d581d",
    "deepnote_cell_type": "code"
   },
   "source": "import networkx as nx #https://networkx.github.io/\nimport matplotlib.pyplot as plt #https://matplotlib.org/\nimport scipy as sp\nimport numpy as np",
   "execution_count": null,
   "outputs": []
  },
  {
   "cell_type": "code",
   "metadata": {
    "trusted": true,
    "cell_id": "00006-f07f1f32-6087-4216-92bf-8f90c3e306c8",
    "deepnote_output_heights": [
     254
    ],
    "deepnote_cell_type": "code"
   },
   "source": "G = nx.Graph()\nG = nx.complete_graph(5)\nnx.draw_networkx(G, node_color='black', font_color='white', edge_color='black', font_weight='bold',  node_size=700)\nplt.axis('off')\nplt.show()",
   "execution_count": null,
   "outputs": [
    {
     "output_type": "display_data",
     "data": {
      "image/png": "[encoded data removed]",
      "text/plain": "<matplotlib.figure.Figure at 0x7f33fadb50f0>"
     },
     "metadata": {
      "image/png": {
       "width": 390,
       "height": 252
      }
     }
    }
   ]
  },
  {
   "cell_type": "markdown",
   "source": "(a) Node degree is $N-1 = 5 -1 = 4$",
   "metadata": {
    "cell_id": "00007-4673f6dd-488f-4ac1-a181-bef1d1b27221",
    "deepnote_cell_type": "markdown"
   }
  },
  {
   "cell_type": "code",
   "metadata": {
    "trusted": true,
    "cell_id": "00008-6ddf7b14-6a9d-4b10-ac03-27c05fda4397",
    "deepnote_output_heights": [
     21.1875
    ],
    "deepnote_cell_type": "code"
   },
   "source": "G.degree()",
   "execution_count": null,
   "outputs": [
    {
     "output_type": "execute_result",
     "execution_count": 5,
     "data": {
      "text/plain": "DegreeView({0: 4, 1: 4, 2: 4, 3: 4, 4: 4})"
     },
     "metadata": {}
    }
   ]
  },
  {
   "cell_type": "markdown",
   "source": "(b) Matrix:\n\n$$\nA = \\begin{pmatrix} \n\t0 & 1 &1 & 1 &  1 \\\\\n\t1 & 0 & 1 & 1 & 1 \\\\\n\t1 & 1 & 0 & 1 & 1  \\\\\n    1 & 1 & 1 & 0 & 1  \\\\\n    1 & 1 & 1 & 1 & 0 \n\\end{pmatrix}\n$$\n",
   "metadata": {
    "cell_id": "00009-32da636c-27e9-4cb5-8408-26f05a70e458",
    "deepnote_cell_type": "markdown"
   }
  },
  {
   "cell_type": "code",
   "metadata": {
    "trusted": true,
    "cell_id": "00010-7cc02eca-2af8-4c8c-b3dc-d39b7aab57ba",
    "deepnote_cell_type": "code"
   },
   "source": "A=nx.adjacency_matrix(G)\nprint(A.todense())",
   "execution_count": null,
   "outputs": [
    {
     "output_type": "stream",
     "text": "[[0 1 1 1 1]\n [1 0 1 1 1]\n [1 1 0 1 1]\n [1 1 1 0 1]\n [1 1 1 1 0]]\n",
     "name": "stdout"
    }
   ]
  },
  {
   "cell_type": "markdown",
   "source": "(c) Diameter: $1$",
   "metadata": {
    "cell_id": "00011-89618eb5-9b79-46b9-b879-d914d7eec3c2",
    "deepnote_cell_type": "markdown"
   }
  },
  {
   "cell_type": "code",
   "metadata": {
    "trusted": true,
    "cell_id": "00012-c422ec7b-251f-4324-aa0a-845c357312c4",
    "deepnote_output_heights": [
     21.1875
    ],
    "deepnote_cell_type": "code"
   },
   "source": "nx.diameter(G)",
   "execution_count": null,
   "outputs": [
    {
     "output_type": "execute_result",
     "execution_count": 7,
     "data": {
      "text/plain": "1"
     },
     "metadata": {}
    }
   ]
  },
  {
   "cell_type": "markdown",
   "source": "(d) Clustering coefficient: $1$",
   "metadata": {
    "cell_id": "00013-9dd34279-b1ce-4f18-a249-ef3d9ad57070",
    "deepnote_cell_type": "markdown"
   }
  },
  {
   "cell_type": "code",
   "metadata": {
    "trusted": true,
    "cell_id": "00014-0bb6c0aa-8b73-4ce5-b626-6bb9b036499d",
    "deepnote_output_heights": [
     21.1875
    ],
    "deepnote_cell_type": "code"
   },
   "source": "nx.clustering(G)",
   "execution_count": null,
   "outputs": [
    {
     "output_type": "execute_result",
     "execution_count": 8,
     "data": {
      "text/plain": "{0: 1.0, 1: 1.0, 2: 1.0, 3: 1.0, 4: 1.0}"
     },
     "metadata": {}
    }
   ]
  },
  {
   "cell_type": "markdown",
   "source": "### Analytical results derived in question 1 verified by $N=5$.",
   "metadata": {
    "cell_id": "00015-4a0f9d54-d8cc-4453-aa70-3d8d084d2232",
    "deepnote_cell_type": "markdown"
   }
  },
  {
   "cell_type": "markdown",
   "source": "**(3) Analyze the *complete graph* with size 20 ($N=20$) as a communication network (i.e. how data travel to a point to another in the network) based on the node degree, the network diamenter and the cluster coefficient.**",
   "metadata": {
    "cell_id": "00016-64f3c535-788c-4ef6-a0b3-607309097cad",
    "deepnote_cell_type": "markdown"
   }
  },
  {
   "cell_type": "markdown",
   "source": "Answer: From question 1, the complete graph with $N=20$ is a communication network where every node is connected to every other node. This means that peer-to-peer (single-hop) links can be formed, not requiring multiple hops (this fact is presented by the network diameter). On the other hand, there might happen problems when many \"talk\" to one at the same time (the node degree is $19$). This topology is robust against attacks against links or edges since it is clusterized (there is no special node or brigde connecting network components). ",
   "metadata": {
    "cell_id": "00017-517f1160-9277-4c4c-a6b3-93648f28bdf0",
    "deepnote_cell_type": "markdown"
   }
  },
  {
   "cell_type": "markdown",
   "source": "**(4) Consider the *complete graph* from the previous question. The network performance depends on its diameter. As a designer, you can add one new node in the network (and an unlimited number of links that this node is part) . Justify your decision and evaluate how much better the network is. Generalize this finding as a function of $N$.**\n\n*Hint:*  Follow Exercise 1 approach to generalize the finding.",
   "metadata": {
    "cell_id": "00018-66894eea-7a6c-462b-a685-cb0a0fab9b0a",
    "deepnote_cell_type": "markdown"
   }
  },
  {
   "cell_type": "markdown",
   "source": "Answer: Since the network is fully connected, the add node must be connected to every other node so it still is a complete graph, but now with $N=21$. We can generalize this by saying that to maintain the network diameter equals to $1$, the new node must have links to all other $N$ nodes, creating a complete graph of $N+1$ nodes.",
   "metadata": {
    "cell_id": "00019-6852756c-8cdc-4da1-b7d9-6475bc6beff5",
    "deepnote_cell_type": "markdown"
   }
  },
  {
   "cell_type": "markdown",
   "source": "<a style='text-decoration:none;line-height:16px;display:flex;color:#5B5B62;padding:10px;justify-content:end;' href='https://deepnote.com?utm_source=created-in-deepnote-cell&projectId=6e014854-0d33-4882-b3ba-5e4227a689e6' target=\"_blank\">\n<img alt='Created in deepnote.com' style='display:inline;max-height:16px;margin:0px;margin-right:7.5px;' src='data:image/svg+xml;base64,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' > </img>\nCreated in <span style='font-weight:600;margin-left:4px;'>Deepnote</span></a>",
   "metadata": {
    "tags": [],
    "created_in_deepnote_cell": true,
    "deepnote_cell_type": "markdown"
   }
  }
 ],
 "nbformat": 4,
 "nbformat_minor": 2,
 "metadata": {
  "kernelspec": {
   "name": "python36",
   "display_name": "Python 3.6",
   "language": "python"
  },
  "language_info": {
   "mimetype": "text/x-python",
   "nbconvert_exporter": "python",
   "name": "python",
   "pygments_lexer": "ipython3",
   "version": "3.6.6",
   "file_extension": ".py",
   "codemirror_mode": {
    "version": 3,
    "name": "ipython"
   }
  },
  "deepnote_notebook_id": "d4db63d7-c5db-482c-b143-6eec65eb936d",
  "deepnote": {},
  "deepnote_execution_queue": []
 }
}