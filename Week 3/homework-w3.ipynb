{
 "cells": [
  {
   "cell_type": "markdown",
   "source": "# BL40A2010 Introduction to IoT-Based Systems\n\n## Assignment 3, 17.12.2021\n\n### Author: Umair Raihan",
   "metadata": {
    "collapsed": true,
    "cell_id": "00000-35dbc200-8379-46a7-880f-bdbc57c298f2",
    "deepnote_cell_type": "markdown"
   }
  },
  {
   "cell_type": "markdown",
   "source": "**(1) Compute the following for a ring topology of $N\\geq3$ nodes considering that the network in unweighted and the links are directed. The result will give these number as a function of $N$.** ",
   "metadata": {
    "cell_id": "00001-5a1ceb8d-5d7e-4724-a2f8-1970fd020ea6",
    "deepnote_cell_type": "markdown"
   }
  },
  {
   "cell_type": "markdown",
   "source": "Answer:\n\n(a) Degree of nodes: 2 regardless of diameter\n\t\n(b) Adjacent matrix:\nIn a ring topology of $N = 4,$\n$$\nA = \\begin{pmatrix}\n0 & 1 & 0 & 1 \\\\\n1 & 0 & 1 & 0 \\\\\n0 & 1 & 0 & 1 \\\\\n1 & 0 & 1 & 0\n\\end{pmatrix}\n$$\n\n(c) Diameter: N/2\n\n(d) Clustering coefficient of the nodes: 0 regardless of N (the neighbours of each nodes are not directly connected to each other)\n\n",
   "metadata": {
    "cell_id": "00002-21374480-be77-41c2-ae77-25e08de4e088",
    "deepnote_cell_type": "markdown"
   }
  },
  {
   "cell_type": "markdown",
   "source": "**(2) Use NetworkX to draw and analyze a ring topology with 5 nodes. Verify if the results previously obtained are valid.**",
   "metadata": {
    "cell_id": "00003-e35f8df4-462b-4614-bd21-2caa5f4e655f",
    "deepnote_cell_type": "markdown"
   }
  },
  {
   "cell_type": "code",
   "metadata": {
    "trusted": false,
    "cell_id": "00004-6ce6a495-8b6f-42f4-bbb4-dcb8f84d7b7f",
    "deepnote_to_be_reexecuted": false,
    "source_hash": "333174a2",
    "execution_start": 1640028131503,
    "execution_millis": 23615,
    "deepnote_cell_type": "code"
   },
   "source": "! pip install --upgrade networkx",
   "execution_count": null,
   "outputs": [
    {
     "name": "stdout",
     "text": "Collecting networkx\n  Downloading networkx-2.6.3-py3-none-any.whl (1.9 MB)\n\u001b[K     |████████████████████████████████| 1.9 MB 5.8 MB/s \n\u001b[?25hInstalling collected packages: networkx\nSuccessfully installed networkx-2.6.3\n\u001b[33mWARNING: You are using pip version 20.1.1; however, version 21.3.1 is available.\nYou should consider upgrading via the '/root/venv/bin/python -m pip install --upgrade pip' command.\u001b[0m\n",
     "output_type": "stream",
     "data": {}
    }
   ]
  },
  {
   "cell_type": "code",
   "metadata": {
    "tags": [],
    "cell_id": "00005-ad87a8dd-92a9-43df-9fba-564f332778b3",
    "deepnote_to_be_reexecuted": false,
    "source_hash": "90363716",
    "execution_start": 1640028155160,
    "execution_millis": 5116,
    "deepnote_cell_type": "code"
   },
   "source": "import networkx as nx #https://networkx.github.io/\nimport matplotlib.pyplot as plt #https://matplotlib.org/\nimport scipy as sp\nimport numpy as np",
   "execution_count": null,
   "outputs": []
  },
  {
   "cell_type": "code",
   "metadata": {
    "tags": [],
    "cell_id": "00006-5e0cf52e-2065-44e9-9549-86a2cbb93ddc",
    "deepnote_to_be_reexecuted": false,
    "source_hash": "b8bf1135",
    "execution_start": 1640028608204,
    "execution_millis": 371,
    "deepnote_output_heights": [
     233
    ],
    "deepnote_cell_type": "code"
   },
   "source": "G = nx.Graph()\nG = nx.cycle_graph(5)\nnx.draw_networkx(G, node_color='black', font_color='white', edge_color='black', font_weight='bold',  node_size=500)\nplt.axis('off')\nplt.show()",
   "execution_count": null,
   "outputs": [
    {
     "data": {
      "text/plain": "<Figure size 432x288 with 1 Axes>",
      "image/png": "[encoded data removed]"
     },
     "metadata": {
      "image/png": {
       "width": 349,
       "height": 231
      }
     },
     "output_type": "display_data"
    }
   ]
  },
  {
   "cell_type": "code",
   "metadata": {
    "tags": [],
    "cell_id": "00007-65a7f0a6-9664-4306-941c-d9369b346c14",
    "deepnote_to_be_reexecuted": false,
    "source_hash": "c30395ae",
    "execution_start": 1640028225739,
    "execution_millis": 19,
    "deepnote_output_heights": [
     1
    ],
    "deepnote_cell_type": "code"
   },
   "source": "G.degree()",
   "execution_count": null,
   "outputs": [
    {
     "output_type": "execute_result",
     "execution_count": 4,
     "data": {
      "text/plain": "DegreeView({0: 2, 1: 2, 2: 2, 3: 2, 4: 2})"
     },
     "metadata": {}
    }
   ]
  },
  {
   "cell_type": "markdown",
   "source": "Adjacency matrix:\n\n$$\nA = \\begin{pmatrix}\n0 & 1 & 0 & 0 & 1 \\\\\n1 & 0 & 1 & 0 & 0 \\\\\n0 & 1 & 0 & 1 & 0 \\\\\n0 & 0 & 1 & 0 & 1 \\\\\n1 & 0 & 0 & 1 & 0\n\\end{pmatrix}\n$$",
   "metadata": {
    "tags": [],
    "cell_id": "00008-5185b8db-910d-431f-b12d-3bd6eadbb9ac",
    "deepnote_cell_type": "markdown"
   }
  },
  {
   "cell_type": "code",
   "metadata": {
    "tags": [],
    "cell_id": "00008-a9b6f017-f362-4960-871a-5bbffac2ade0",
    "deepnote_to_be_reexecuted": false,
    "source_hash": "ffe6b49b",
    "execution_start": 1640028296221,
    "execution_millis": 48,
    "deepnote_cell_type": "code"
   },
   "source": "A=nx.adjacency_matrix(G)\nprint(A.todense())",
   "execution_count": null,
   "outputs": [
    {
     "name": "stdout",
     "text": "[[0 1 0 0 1]\n [1 0 1 0 0]\n [0 1 0 1 0]\n [0 0 1 0 1]\n [1 0 0 1 0]]\n",
     "output_type": "stream",
     "data": {}
    }
   ]
  },
  {
   "cell_type": "code",
   "metadata": {
    "tags": [],
    "cell_id": "00010-d1a30e33-cd00-48f5-b05b-4c054e3db8ba",
    "deepnote_to_be_reexecuted": false,
    "source_hash": "851e92cc",
    "execution_start": 1640028613314,
    "execution_millis": 35,
    "deepnote_output_heights": [
     1
    ],
    "deepnote_cell_type": "code"
   },
   "source": "nx.diameter(G)",
   "execution_count": null,
   "outputs": [
    {
     "output_type": "execute_result",
     "execution_count": 14,
     "data": {
      "text/plain": "2"
     },
     "metadata": {}
    }
   ]
  },
  {
   "cell_type": "markdown",
   "source": "According to the analysis done in question (1), the network diameter should be 2.5 ($$5/2$$). But as stated in the NetworkX documentation, the diagram method returns an integer value. I double checked by using $$N=4$$ and it also returns 2, so the result above seems to be just a rounding thing.",
   "metadata": {
    "tags": [],
    "cell_id": "00011-7b2d2a8b-e706-4ea3-a987-1afd8ddb4c9f",
    "deepnote_cell_type": "markdown"
   }
  },
  {
   "cell_type": "code",
   "metadata": {
    "tags": [],
    "cell_id": "00011-8347d6cb-a274-48e1-a273-700292d52061",
    "deepnote_to_be_reexecuted": false,
    "source_hash": "4a710d31",
    "execution_start": 1640028540819,
    "execution_millis": 2,
    "deepnote_output_heights": [
     1
    ],
    "deepnote_cell_type": "code"
   },
   "source": "nx.clustering(G)",
   "execution_count": null,
   "outputs": [
    {
     "output_type": "execute_result",
     "execution_count": 7,
     "data": {
      "text/plain": "{0: 0, 1: 0, 2: 0, 3: 0, 4: 0}"
     },
     "metadata": {}
    }
   ]
  },
  {
   "cell_type": "markdown",
   "source": "**(3) Analyze the ring topology with size 20 ($N=20$) as a communication network (i.e. how data travel to a point to another in the network) based on the node degree, the network diamenter and the cluster coefficient.**",
   "metadata": {
    "cell_id": "00005-5e981730-c838-4591-9513-4e213ec6999c",
    "deepnote_cell_type": "markdown"
   }
  },
  {
   "cell_type": "markdown",
   "source": "Answer: A ring topology with size $$N=20$$ is a communication network where one node only connected to 2 other neighbouring nodes, creating a \"ring\"-like shape. To send a signal to other nodes, it requires multiple hops until the signal reach its destination, unless the destination is one of either neighbouring nodes. The node degree is 2 regardless of the amount of $$N$$, meaning a node will only able to talk to 2 other nodes at the same time, but both neighbouring nodes cannot talk to each other ($$C=0$$). This topology is quite vulnerable to an attack against links or edges because once an edge is attacked and controlled by attacker, the attacker can intercept the signal within the network. ",
   "metadata": {
    "cell_id": "00006-b21be8be-42d0-442d-8ec3-2d44285156f4",
    "deepnote_cell_type": "markdown"
   }
  },
  {
   "cell_type": "markdown",
   "source": "**(4) Consider the ring network from the previous question. The network performance depends on its diameter. As a designer, you can add one new node in the network (and an unlimited number of links that this node is part) . Justify your decision and evaluate how much better the network is. Generalize this finding as a function of $N$.**\n\n*Hint:*  Follow Exercise 1 approach to generalize the finding.",
   "metadata": {
    "cell_id": "00007-5cff8bb0-f637-475c-b49d-4be8b8774554",
    "deepnote_cell_type": "markdown"
   }
  },
  {
   "cell_type": "markdown",
   "source": "Answer: Adding a new node in the network of ring topology would decrease its performance because by adding a new node, it will also increase its diameter because the diameter of the ring network depends on the amount of nodes in the network ($$Diameter = N/2$$). The ring network from previous question have a diameter of 10 ($$20/2$$), and adding one more node will grows the diameter into 10.5 ($$21/2$$), so one could argue that by adding one more new node the performance of the network would not significantly decreased.\n\nBut one should also note that adding too many new node into a ring network would deteriorate its performance heavily. It would also make troubleshooting more difficult and makes it more vulnerable for an attack. So unless it is extremely necessary to add a new node, I think that it is not recommended to connect too many nodes into a ring network.",
   "metadata": {
    "cell_id": "00008-e7036e7d-717b-4733-8113-cba26aae3a5d",
    "deepnote_cell_type": "markdown"
   }
  },
  {
   "cell_type": "markdown",
   "source": "<a style='text-decoration:none;line-height:16px;display:flex;color:#5B5B62;padding:10px;justify-content:end;' href='https://deepnote.com?utm_source=created-in-deepnote-cell&projectId=6e014854-0d33-4882-b3ba-5e4227a689e6' target=\"_blank\">\n<img alt='Created in deepnote.com' style='display:inline;max-height:16px;margin:0px;margin-right:7.5px;' src='data:image/svg+xml;base64,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' > </img>\nCreated in <span style='font-weight:600;margin-left:4px;'>Deepnote</span></a>",
   "metadata": {
    "tags": [],
    "created_in_deepnote_cell": true,
    "deepnote_cell_type": "markdown"
   }
  }
 ],
 "nbformat": 4,
 "nbformat_minor": 2,
 "metadata": {
  "kernelspec": {
   "name": "python36",
   "display_name": "Python 3.6",
   "language": "python"
  },
  "language_info": {
   "mimetype": "text/x-python",
   "nbconvert_exporter": "python",
   "name": "python",
   "pygments_lexer": "ipython3",
   "version": "3.6.6",
   "file_extension": ".py",
   "codemirror_mode": {
    "version": 3,
    "name": "ipython"
   }
  },
  "deepnote_notebook_id": "d8356d21-b7c4-4fa6-bfd7-45b6ad174112",
  "deepnote": {},
  "deepnote_execution_queue": []
 }
}